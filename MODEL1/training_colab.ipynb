{
  "nbformat": 4,
  "nbformat_minor": 0,
  "metadata": {
    "colab": {
      "name": "Untitled6.ipynb",
      "provenance": []
    },
    "kernelspec": {
      "name": "python3",
      "display_name": "Python 3"
    },
    "language_info": {
      "name": "python"
    },
    "accelerator": "GPU"
  },
  "cells": [
    {
      "cell_type": "code",
      "metadata": {
        "colab": {
          "base_uri": "https://localhost:8080/"
        },
        "id": "AYJM2meC7qTo",
        "outputId": "3c4d4fa3-cc33-4221-aac9-0baf40eb35cc"
      },
      "source": [
        "!git clone https://github.com/tejalbarnwal/soc_mini_project.git"
      ],
      "execution_count": 1,
      "outputs": [
        {
          "output_type": "stream",
          "text": [
            "fatal: destination path 'soc_mini_project' already exists and is not an empty directory.\n"
          ],
          "name": "stdout"
        }
      ]
    },
    {
      "cell_type": "code",
      "metadata": {
        "colab": {
          "base_uri": "https://localhost:8080/",
          "height": 266
        },
        "id": "0IudaC9O_WLq",
        "outputId": "398fad46-16f9-4cb7-9d46-476ba59d4eee"
      },
      "source": [
        "import matplotlib.pyplot as plt\n",
        "import cv2\n",
        "\n",
        "img = cv2.imread(\"/content/soc_mini_project/dataset/train/happy/Training_10019449.jpg\")\n",
        "img = cv2.resize(img, (48,48))\n",
        "plt.imshow(img, cmap=\"gray\")\n",
        "plt.show()"
      ],
      "execution_count": 2,
      "outputs": [
        {
          "output_type": "display_data",
          "data": {
            "image/png": "[encoded data removed]",
            "text/plain": [
              "<Figure size 432x288 with 1 Axes>"
            ]
          },
          "metadata": {
            "tags": [],
            "needs_background": "light"
          }
        }
      ]
    },
    {
      "cell_type": "code",
      "metadata": {
        "id": "lIL5G-WTHZcR"
      },
      "source": [
        "from datetime import datetime\n",
        "%load_ext tensorboard\n",
        "!rm -rf ./logs/\n",
        "from tensorflow.keras.callbacks import TensorBoard"
      ],
      "execution_count": 3,
      "outputs": []
    },
    {
      "cell_type": "code",
      "metadata": {
        "id": "RffJJsDn9Q9Q"
      },
      "source": [
        "from tensorflow.keras.preprocessing.image import ImageDataGenerator"
      ],
      "execution_count": 4,
      "outputs": []
    },
    {
      "cell_type": "code",
      "metadata": {
        "colab": {
          "base_uri": "https://localhost:8080/"
        },
        "id": "j08sMZfn93lx",
        "outputId": "b39a6c54-1ddf-4f14-9b29-57fd9e630ffe"
      },
      "source": [
        "train_dir = \"/content/soc_mini_project/dataset/train\"\n",
        "val_dir = \"/content/soc_mini_project/dataset/test\"\n",
        "\n",
        "# train_datagen = ImageDataGenerator(rescale = 1/255., rotation_range = 10, width_shift_range=0.2,height_shift_range=0.2,\n",
        "#                                    horizontal_flip = True,zoom_range = 0.1)\n",
        "train_datagen = ImageDataGenerator(rescale = 1/255., horizontal_flip = True)\n",
        "val_datagen = ImageDataGenerator(rescale = 1/255.)\n",
        "\n",
        "training_data = train_datagen.flow_from_directory(\n",
        "                  train_dir,\n",
        "                  target_size = (48,48),\n",
        "                  batch_size = 64,\n",
        "                  color_mode = \"grayscale\",\n",
        "                  class_mode = \"categorical\"\n",
        ")\n",
        "\n",
        "validation_data = val_datagen.flow_from_directory(\n",
        "                    val_dir,\n",
        "                    target_size = (48,48),\n",
        "                    batch_size = 64,\n",
        "                    color_mode = \"grayscale\",\n",
        "                    class_mode = \"categorical\"\n",
        ")"
      ],
      "execution_count": 5,
      "outputs": [
        {
          "output_type": "stream",
          "text": [
            "Found 28709 images belonging to 7 classes.\n",
            "Found 7178 images belonging to 7 classes.\n"
          ],
          "name": "stdout"
        }
      ]
    },
    {
      "cell_type": "code",
      "metadata": {
        "id": "AHj4VZyy95hQ"
      },
      "source": [
        "from tensorflow.keras import models\n",
        "from tensorflow.keras import layers\n",
        "\n",
        "# defining a convnet\n",
        "\n",
        "num_filter_1 = 64\n",
        "num_filter_2 = 128\n",
        "num_filter_3 = 256\n",
        "num_filter_4 = 512\n",
        "\n",
        "#initailizing the model\n",
        "teju_model = models.Sequential()\n",
        "########################### 1st conv layer##################################\n",
        "teju_model.add(layers.Conv2D(num_filter_1 , (3,3),padding=\"same\" , activation=\"relu\" , input_shape=(48,48,1)))\n",
        "teju_model.add(layers.BatchNormalization())\n",
        "teju_model.add(layers.MaxPooling2D((2,2)))\n",
        "teju_model.add(layers.Dropout(0.3))\n",
        "teju_model.add(layers.BatchNormalization())\n",
        "#############################2nd conv layer##################################\n",
        "teju_model.add(layers.Conv2D(num_filter_2 , (3,3),padding=\"same\"  , activation=\"relu\"))\n",
        "teju_model.add(layers.BatchNormalization())\n",
        "teju_model.add(layers.MaxPooling2D((2,2)))\n",
        "teju_model.add(layers.Dropout(0.3))\n",
        "teju_model.add(layers.BatchNormalization())\n",
        "#############################3rd conv layer##################################\n",
        "teju_model.add(layers.Conv2D(num_filter_3 , (3,3),padding=\"same\"  , activation=\"relu\"))\n",
        "teju_model.add(layers.BatchNormalization())\n",
        "teju_model.add(layers.MaxPooling2D((2,2)))\n",
        "teju_model.add(layers.Dropout(0.3))\n",
        "teju_model.add(layers.BatchNormalization())\n",
        "##############################4th conv layer#################################\n",
        "teju_model.add(layers.Conv2D(num_filter_4 , (3,3),padding=\"same\"  , activation=\"relu\"))\n",
        "teju_model.add(layers.BatchNormalization())\n",
        "teju_model.add(layers.MaxPooling2D((2,2)))\n",
        "teju_model.add(layers.Dropout(0.3))\n",
        "teju_model.add(layers.BatchNormalization())\n",
        "##############################5th conv layer#################################\n",
        "teju_model.add(layers.Conv2D(num_filter_4 , (3,3),padding=\"same\"  , activation=\"relu\"))\n",
        "teju_model.add(layers.BatchNormalization())\n",
        "teju_model.add(layers.MaxPooling2D((2,2)))\n",
        "teju_model.add(layers.Dropout(0.5))\n",
        "teju_model.add(layers.BatchNormalization())\n",
        "\n",
        "\n"
      ],
      "execution_count": 6,
      "outputs": []
    },
    {
      "cell_type": "code",
      "metadata": {
        "id": "FbLORyUfBENX"
      },
      "source": [
        "# adding a classifier\n",
        "\n",
        "num_units_1 = 256\n",
        "num_units_2 = 128\n",
        "num_units_3 = 64\n",
        "\n",
        "teju_model.add(layers.Flatten())\n",
        "############################1st dense layer##########################################\n",
        "teju_model.add(layers.Dense( num_units_1 , activation=\"relu\"))\n",
        "teju_model.add(layers.Dropout(0.3))\n",
        "teju_model.add(layers.BatchNormalization())\n",
        "##############################2nd dense layer##########################################\n",
        "teju_model.add(layers.Dense( num_units_2 , activation=\"relu\"))\n",
        "teju_model.add(layers.Dropout(0.3))\n",
        "teju_model.add(layers.BatchNormalization())\n",
        "##############################3rd#############\n",
        "teju_model.add(layers.Dense( num_units_3 , activation=\"relu\"))\n",
        "teju_model.add(layers.Dropout(0.3))\n",
        "\n",
        "\n",
        "teju_model.add(layers.Dense( 7 , activation=\"softmax\"))\n"
      ],
      "execution_count": 7,
      "outputs": []
    },
    {
      "cell_type": "code",
      "metadata": {
        "colab": {
          "base_uri": "https://localhost:8080/"
        },
        "id": "kkejclTJBH6m",
        "outputId": "c4876fb1-e299-432f-f132-0cc86679c361"
      },
      "source": [
        "teju_model.summary()"
      ],
      "execution_count": 8,
      "outputs": [
        {
          "output_type": "stream",
          "text": [
            "Model: \"sequential\"\n",
            "_________________________________________________________________\n",
            "Layer (type)                 Output Shape              Param #   \n",
            "=================================================================\n",
            "conv2d (Conv2D)              (None, 48, 48, 64)        640       \n",
            "_________________________________________________________________\n",
            "batch_normalization (BatchNo (None, 48, 48, 64)        256       \n",
            "_________________________________________________________________\n",
            "max_pooling2d (MaxPooling2D) (None, 24, 24, 64)        0         \n",
            "_________________________________________________________________\n",
            "dropout (Dropout)            (None, 24, 24, 64)        0         \n",
            "_________________________________________________________________\n",
            "batch_normalization_1 (Batch (None, 24, 24, 64)        256       \n",
            "_________________________________________________________________\n",
            "conv2d_1 (Conv2D)            (None, 24, 24, 128)       73856     \n",
            "_________________________________________________________________\n",
            "batch_normalization_2 (Batch (None, 24, 24, 128)       512       \n",
            "_________________________________________________________________\n",
            "max_pooling2d_1 (MaxPooling2 (None, 12, 12, 128)       0         \n",
            "_________________________________________________________________\n",
            "dropout_1 (Dropout)          (None, 12, 12, 128)       0         \n",
            "_________________________________________________________________\n",
            "batch_normalization_3 (Batch (None, 12, 12, 128)       512       \n",
            "_________________________________________________________________\n",
            "conv2d_2 (Conv2D)            (None, 12, 12, 256)       295168    \n",
            "_________________________________________________________________\n",
            "batch_normalization_4 (Batch (None, 12, 12, 256)       1024      \n",
            "_________________________________________________________________\n",
            "max_pooling2d_2 (MaxPooling2 (None, 6, 6, 256)         0         \n",
            "_________________________________________________________________\n",
            "dropout_2 (Dropout)          (None, 6, 6, 256)         0         \n",
            "_________________________________________________________________\n",
            "batch_normalization_5 (Batch (None, 6, 6, 256)         1024      \n",
            "_________________________________________________________________\n",
            "conv2d_3 (Conv2D)            (None, 6, 6, 512)         1180160   \n",
            "_________________________________________________________________\n",
            "batch_normalization_6 (Batch (None, 6, 6, 512)         2048      \n",
            "_________________________________________________________________\n",
            "max_pooling2d_3 (MaxPooling2 (None, 3, 3, 512)         0         \n",
            "_________________________________________________________________\n",
            "dropout_3 (Dropout)          (None, 3, 3, 512)         0         \n",
            "_________________________________________________________________\n",
            "batch_normalization_7 (Batch (None, 3, 3, 512)         2048      \n",
            "_________________________________________________________________\n",
            "conv2d_4 (Conv2D)            (None, 3, 3, 512)         2359808   \n",
            "_________________________________________________________________\n",
            "batch_normalization_8 (Batch (None, 3, 3, 512)         2048      \n",
            "_________________________________________________________________\n",
            "max_pooling2d_4 (MaxPooling2 (None, 1, 1, 512)         0         \n",
            "_________________________________________________________________\n",
            "dropout_4 (Dropout)          (None, 1, 1, 512)         0         \n",
            "_________________________________________________________________\n",
            "batch_normalization_9 (Batch (None, 1, 1, 512)         2048      \n",
            "_________________________________________________________________\n",
            "flatten (Flatten)            (None, 512)               0         \n",
            "_________________________________________________________________\n",
            "dense (Dense)                (None, 256)               131328    \n",
            "_________________________________________________________________\n",
            "dropout_5 (Dropout)          (None, 256)               0         \n",
            "_________________________________________________________________\n",
            "batch_normalization_10 (Batc (None, 256)               1024      \n",
            "_________________________________________________________________\n",
            "dense_1 (Dense)              (None, 128)               32896     \n",
            "_________________________________________________________________\n",
            "dropout_6 (Dropout)          (None, 128)               0         \n",
            "_________________________________________________________________\n",
            "batch_normalization_11 (Batc (None, 128)               512       \n",
            "_________________________________________________________________\n",
            "dense_2 (Dense)              (None, 64)                8256      \n",
            "_________________________________________________________________\n",
            "dropout_7 (Dropout)          (None, 64)                0         \n",
            "_________________________________________________________________\n",
            "dense_3 (Dense)              (None, 7)                 455       \n",
            "=================================================================\n",
            "Total params: 4,095,879\n",
            "Trainable params: 4,089,223\n",
            "Non-trainable params: 6,656\n",
            "_________________________________________________________________\n"
          ],
          "name": "stdout"
        }
      ]
    },
    {
      "cell_type": "code",
      "metadata": {
        "id": "XfJ07rmnBKz_"
      },
      "source": [
        "from keras import optimizers\n",
        "\n",
        "opt = optimizers.Adam(learning_rate = 0.001)\n",
        "# opt1 = optimizers.SGD(\n",
        "#     learning_rate=0.01, momentum=0.9)\n",
        "teju_model.compile(optimizer=opt ,loss=\"categorical_crossentropy\", metrics=[\"accuracy\"])"
      ],
      "execution_count": 9,
      "outputs": []
    },
    {
      "cell_type": "code",
      "metadata": {
        "colab": {
          "base_uri": "https://localhost:8080/"
        },
        "id": "elM10_j7BM5p",
        "outputId": "f93ede01-1bcc-462c-9a6c-744607804bf1"
      },
      "source": [
        "# compiling the model and fiiting on train images\n",
        "from tensorflow.keras import callbacks\n",
        "\n",
        "class SaveBestModel(callbacks.Callback):\n",
        "    def __init__(self, save_best_metric='val_loss', this_max=False):\n",
        "        self.save_best_metric = save_best_metric\n",
        "        self.max = this_max\n",
        "        if this_max:\n",
        "            self.best = float('-inf')\n",
        "        else:\n",
        "            self.best = float('inf')\n",
        "\n",
        "    def on_epoch_end(self, epoch, logs=None):\n",
        "        metric_value = logs[self.save_best_metric]\n",
        "        if self.max:\n",
        "            if metric_value > self.best:\n",
        "                self.best = metric_value\n",
        "                self.best_weights = self.model.get_weights()\n",
        "\n",
        "        else:\n",
        "            if metric_value < self.best:\n",
        "                self.best = metric_value\n",
        "                self.best_weights= self.model.get_weights()\n",
        "\n",
        "\n",
        "save_best_model = SaveBestModel()\n",
        "\n",
        "num_epochs = 40\n",
        "teju_history = teju_model.fit(\n",
        "                  training_data,\n",
        "                  steps_per_epoch = training_data.n//training_data.batch_size,\n",
        "                  epochs = num_epochs,\n",
        "                  validation_data = validation_data,\n",
        "                  validation_steps = validation_data.n//validation_data.batch_size,\n",
        "                  callbacks=[save_best_model]\n",
        ")"
      ],
      "execution_count": 10,
      "outputs": [
        {
          "output_type": "stream",
          "text": [
            "Epoch 1/40\n",
            "448/448 [==============================] - 18s 31ms/step - loss: 1.9487 - accuracy: 0.2205 - val_loss: 1.8118 - val_accuracy: 0.2472\n",
            "Epoch 2/40\n",
            "448/448 [==============================] - 13s 29ms/step - loss: 1.7177 - accuracy: 0.2988 - val_loss: 1.6527 - val_accuracy: 0.3337\n",
            "Epoch 3/40\n",
            "448/448 [==============================] - 13s 29ms/step - loss: 1.5499 - accuracy: 0.3938 - val_loss: 1.4582 - val_accuracy: 0.4251\n",
            "Epoch 4/40\n",
            "448/448 [==============================] - 13s 30ms/step - loss: 1.4265 - accuracy: 0.4509 - val_loss: 1.3612 - val_accuracy: 0.4761\n",
            "Epoch 5/40\n",
            "448/448 [==============================] - 13s 29ms/step - loss: 1.3485 - accuracy: 0.4854 - val_loss: 1.2905 - val_accuracy: 0.5032\n",
            "Epoch 6/40\n",
            "448/448 [==============================] - 13s 29ms/step - loss: 1.2853 - accuracy: 0.5120 - val_loss: 1.2655 - val_accuracy: 0.5191\n",
            "Epoch 7/40\n",
            "448/448 [==============================] - 13s 29ms/step - loss: 1.2301 - accuracy: 0.5361 - val_loss: 1.3788 - val_accuracy: 0.4773\n",
            "Epoch 8/40\n",
            "448/448 [==============================] - 13s 30ms/step - loss: 1.2053 - accuracy: 0.5476 - val_loss: 1.1700 - val_accuracy: 0.5460\n",
            "Epoch 9/40\n",
            "448/448 [==============================] - 13s 29ms/step - loss: 1.1689 - accuracy: 0.5657 - val_loss: 1.1165 - val_accuracy: 0.5739\n",
            "Epoch 10/40\n",
            "448/448 [==============================] - 13s 29ms/step - loss: 1.1470 - accuracy: 0.5740 - val_loss: 1.1486 - val_accuracy: 0.5650\n",
            "Epoch 11/40\n",
            "448/448 [==============================] - 13s 30ms/step - loss: 1.1140 - accuracy: 0.5894 - val_loss: 1.1253 - val_accuracy: 0.5759\n",
            "Epoch 12/40\n",
            "448/448 [==============================] - 13s 29ms/step - loss: 1.0906 - accuracy: 0.5949 - val_loss: 1.1149 - val_accuracy: 0.5692\n",
            "Epoch 13/40\n",
            "448/448 [==============================] - 13s 29ms/step - loss: 1.0738 - accuracy: 0.6016 - val_loss: 1.0723 - val_accuracy: 0.5914\n",
            "Epoch 14/40\n",
            "448/448 [==============================] - 13s 29ms/step - loss: 1.0489 - accuracy: 0.6134 - val_loss: 1.0396 - val_accuracy: 0.6091\n",
            "Epoch 15/40\n",
            "448/448 [==============================] - 13s 29ms/step - loss: 1.0336 - accuracy: 0.6197 - val_loss: 1.0295 - val_accuracy: 0.6124\n",
            "Epoch 16/40\n",
            "448/448 [==============================] - 13s 29ms/step - loss: 1.0115 - accuracy: 0.6279 - val_loss: 1.0688 - val_accuracy: 0.5951\n",
            "Epoch 17/40\n",
            "448/448 [==============================] - 13s 30ms/step - loss: 0.9899 - accuracy: 0.6376 - val_loss: 1.0177 - val_accuracy: 0.6110\n",
            "Epoch 18/40\n",
            "448/448 [==============================] - 13s 30ms/step - loss: 0.9771 - accuracy: 0.6397 - val_loss: 1.1363 - val_accuracy: 0.5861\n",
            "Epoch 19/40\n",
            "448/448 [==============================] - 13s 30ms/step - loss: 0.9596 - accuracy: 0.6502 - val_loss: 1.0090 - val_accuracy: 0.6170\n",
            "Epoch 20/40\n",
            "448/448 [==============================] - 13s 30ms/step - loss: 0.9436 - accuracy: 0.6541 - val_loss: 1.0276 - val_accuracy: 0.6123\n",
            "Epoch 21/40\n",
            "448/448 [==============================] - 13s 30ms/step - loss: 0.9368 - accuracy: 0.6591 - val_loss: 1.0022 - val_accuracy: 0.6268\n",
            "Epoch 22/40\n",
            "448/448 [==============================] - 13s 29ms/step - loss: 0.9123 - accuracy: 0.6691 - val_loss: 1.0470 - val_accuracy: 0.6164\n",
            "Epoch 23/40\n",
            "448/448 [==============================] - 13s 29ms/step - loss: 0.9008 - accuracy: 0.6699 - val_loss: 1.0557 - val_accuracy: 0.6104\n",
            "Epoch 24/40\n",
            "448/448 [==============================] - 13s 30ms/step - loss: 0.8773 - accuracy: 0.6810 - val_loss: 1.0088 - val_accuracy: 0.6278\n",
            "Epoch 25/40\n",
            "448/448 [==============================] - 13s 30ms/step - loss: 0.8739 - accuracy: 0.6799 - val_loss: 0.9789 - val_accuracy: 0.6395\n",
            "Epoch 26/40\n",
            "448/448 [==============================] - 13s 30ms/step - loss: 0.8611 - accuracy: 0.6867 - val_loss: 0.9813 - val_accuracy: 0.6426\n",
            "Epoch 27/40\n",
            "448/448 [==============================] - 13s 30ms/step - loss: 0.8418 - accuracy: 0.6923 - val_loss: 1.0083 - val_accuracy: 0.6290\n",
            "Epoch 28/40\n",
            "448/448 [==============================] - 13s 30ms/step - loss: 0.8394 - accuracy: 0.6946 - val_loss: 1.0174 - val_accuracy: 0.6289\n",
            "Epoch 29/40\n",
            "448/448 [==============================] - 13s 30ms/step - loss: 0.8242 - accuracy: 0.7032 - val_loss: 1.0573 - val_accuracy: 0.6120\n",
            "Epoch 30/40\n",
            "448/448 [==============================] - 13s 30ms/step - loss: 0.8044 - accuracy: 0.7094 - val_loss: 1.0276 - val_accuracy: 0.6336\n",
            "Epoch 31/40\n",
            "448/448 [==============================] - 13s 30ms/step - loss: 0.7946 - accuracy: 0.7123 - val_loss: 1.0100 - val_accuracy: 0.6297\n",
            "Epoch 32/40\n",
            "448/448 [==============================] - 13s 29ms/step - loss: 0.7847 - accuracy: 0.7154 - val_loss: 1.0116 - val_accuracy: 0.6357\n",
            "Epoch 33/40\n",
            "448/448 [==============================] - 13s 30ms/step - loss: 0.7768 - accuracy: 0.7210 - val_loss: 1.0263 - val_accuracy: 0.6360\n",
            "Epoch 34/40\n",
            "448/448 [==============================] - 13s 30ms/step - loss: 0.7690 - accuracy: 0.7228 - val_loss: 1.0560 - val_accuracy: 0.6176\n",
            "Epoch 35/40\n",
            "448/448 [==============================] - 13s 30ms/step - loss: 0.7517 - accuracy: 0.7291 - val_loss: 1.0337 - val_accuracy: 0.6309\n",
            "Epoch 36/40\n",
            "448/448 [==============================] - 13s 30ms/step - loss: 0.7410 - accuracy: 0.7349 - val_loss: 1.0326 - val_accuracy: 0.6335\n",
            "Epoch 37/40\n",
            "448/448 [==============================] - 13s 30ms/step - loss: 0.7358 - accuracy: 0.7367 - val_loss: 1.0225 - val_accuracy: 0.6409\n",
            "Epoch 38/40\n",
            "448/448 [==============================] - 13s 30ms/step - loss: 0.7317 - accuracy: 0.7383 - val_loss: 1.0048 - val_accuracy: 0.6465\n",
            "Epoch 39/40\n",
            "448/448 [==============================] - 13s 30ms/step - loss: 0.7267 - accuracy: 0.7365 - val_loss: 0.9857 - val_accuracy: 0.6504\n",
            "Epoch 40/40\n",
            "448/448 [==============================] - 13s 30ms/step - loss: 0.6969 - accuracy: 0.7470 - val_loss: 1.0171 - val_accuracy: 0.6529\n"
          ],
          "name": "stdout"
        }
      ]
    },
    {
      "cell_type": "code",
      "metadata": {
        "colab": {
          "base_uri": "https://localhost:8080/",
          "height": 312
        },
        "id": "lwv7xRmpBOqI",
        "outputId": "55cd411a-72e7-446d-9129-e3eadce3b97d"
      },
      "source": [
        "# plotting training and validation loss\n",
        "\n",
        "loss = teju_history.history[\"loss\"]\n",
        "val_loss = teju_history.history[\"val_loss\"]\n",
        "\n",
        "epochs = range(1 , len(loss)+1)\n",
        "\n",
        "plt.plot(epochs , loss , \"r\" , label=\"traning loss\")\n",
        "plt.plot(epochs , val_loss , \"b\" , label=\"validation loss\")\n",
        "plt.title(\"traning and validation loss\")\n",
        "plt.xlabel(\"epochs\")\n",
        "plt.ylabel(\"loss\")\n",
        "plt.legend()\n"
      ],
      "execution_count": 11,
      "outputs": [
        {
          "output_type": "execute_result",
          "data": {
            "text/plain": [
              "<matplotlib.legend.Legend at 0x7fb4f4630f10>"
            ]
          },
          "metadata": {
            "tags": []
          },
          "execution_count": 11
        },
        {
          "output_type": "display_data",
          "data": {
            "image/png": "[encoded data removed]",
            "text/plain": [
              "<Figure size 432x288 with 1 Axes>"
            ]
          },
          "metadata": {
            "tags": [],
            "needs_background": "light"
          }
        }
      ]
    },
    {
      "cell_type": "code",
      "metadata": {
        "colab": {
          "base_uri": "https://localhost:8080/",
          "height": 312
        },
        "id": "7eUiZ0qAEPAG",
        "outputId": "95ea37ed-34a5-47e9-c2fc-3a73a90f7114"
      },
      "source": [
        "# plotting training and validation accuracy\n",
        "\n",
        "loss = teju_history.history[\"accuracy\"]\n",
        "val_loss = teju_history.history[\"val_accuracy\"]\n",
        "\n",
        "epochs = range(1 , len(loss)+1)\n",
        "\n",
        "plt.plot(epochs , loss , \"r\" , label=\"traning acc\")\n",
        "plt.plot(epochs , val_loss , \"b\" , label=\"validation acc\")\n",
        "plt.title(\"traning and validation acc\")\n",
        "plt.xlabel(\"epochs\")\n",
        "plt.ylabel(\"loss\")\n",
        "plt.legend()\n"
      ],
      "execution_count": 12,
      "outputs": [
        {
          "output_type": "execute_result",
          "data": {
            "text/plain": [
              "<matplotlib.legend.Legend at 0x7fb5080b3890>"
            ]
          },
          "metadata": {
            "tags": []
          },
          "execution_count": 12
        },
        {
          "output_type": "display_data",
          "data": {
            "image/png": "[encoded data removed]",
            "text/plain": [
              "<Figure size 432x288 with 1 Axes>"
            ]
          },
          "metadata": {
            "tags": [],
            "needs_background": "light"
          }
        }
      ]
    },
    {
      "cell_type": "code",
      "metadata": {
        "id": "mvJZKq50LILw"
      },
      "source": [
        "teju_model.set_weights(save_best_model.best_weights)"
      ],
      "execution_count": 14,
      "outputs": []
    },
    {
      "cell_type": "code",
      "metadata": {
        "colab": {
          "base_uri": "https://localhost:8080/"
        },
        "id": "kOz5LNPsmQf9",
        "outputId": "c11a7480-2a28-43a4-a439-d9b0f175897a"
      },
      "source": [
        "teju_model.save_weights('weights.h5')\n",
        "teju_model.save('model')"
      ],
      "execution_count": 15,
      "outputs": [
        {
          "output_type": "stream",
          "text": [
            "INFO:tensorflow:Assets written to: model/assets\n"
          ],
          "name": "stdout"
        }
      ]
    },
    {
      "cell_type": "code",
      "metadata": {
        "id": "3YaneOovrKhs"
      },
      "source": [
        ""
      ],
      "execution_count": null,
      "outputs": []
    }
  ]
}